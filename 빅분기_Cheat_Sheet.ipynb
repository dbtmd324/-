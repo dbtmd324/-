{
 "cells": [
  {
   "cell_type": "markdown",
   "id": "e99aad29",
   "metadata": {},
   "source": [
    "# 빅분기 실기 Cheat Sheet"
   ]
  },
  {
   "cell_type": "markdown",
   "id": "4a50d7b3",
   "metadata": {},
   "source": [
    "## 단답형 1유형\n",
    "\n",
    "- pandas, numpy 등 활용\n",
    "- 리스트 나누기, 결측치 채우기, 데이터 섞기 등등\n",
    "- 기출 문제 활용"
   ]
  },
  {
   "cell_type": "code",
   "execution_count": 2,
   "id": "b39e9fd7",
   "metadata": {},
   "outputs": [
    {
     "data": {
      "text/html": [
       "<div>\n",
       "<style scoped>\n",
       "    .dataframe tbody tr th:only-of-type {\n",
       "        vertical-align: middle;\n",
       "    }\n",
       "\n",
       "    .dataframe tbody tr th {\n",
       "        vertical-align: top;\n",
       "    }\n",
       "\n",
       "    .dataframe thead th {\n",
       "        text-align: right;\n",
       "    }\n",
       "</style>\n",
       "<table border=\"1\" class=\"dataframe\">\n",
       "  <thead>\n",
       "    <tr style=\"text-align: right;\">\n",
       "      <th></th>\n",
       "      <th>id</th>\n",
       "      <th>age</th>\n",
       "      <th>city</th>\n",
       "      <th>f1</th>\n",
       "      <th>f2</th>\n",
       "      <th>f3</th>\n",
       "      <th>f4</th>\n",
       "      <th>f5</th>\n",
       "    </tr>\n",
       "  </thead>\n",
       "  <tbody>\n",
       "    <tr>\n",
       "      <th>0</th>\n",
       "      <td>id01</td>\n",
       "      <td>2.0</td>\n",
       "      <td>서울</td>\n",
       "      <td>NaN</td>\n",
       "      <td>0</td>\n",
       "      <td>NaN</td>\n",
       "      <td>ENFJ</td>\n",
       "      <td>91.297791</td>\n",
       "    </tr>\n",
       "    <tr>\n",
       "      <th>1</th>\n",
       "      <td>id02</td>\n",
       "      <td>9.0</td>\n",
       "      <td>서울</td>\n",
       "      <td>70.0</td>\n",
       "      <td>1</td>\n",
       "      <td>NaN</td>\n",
       "      <td>ENFJ</td>\n",
       "      <td>60.339826</td>\n",
       "    </tr>\n",
       "    <tr>\n",
       "      <th>2</th>\n",
       "      <td>id03</td>\n",
       "      <td>27.0</td>\n",
       "      <td>서울</td>\n",
       "      <td>61.0</td>\n",
       "      <td>1</td>\n",
       "      <td>NaN</td>\n",
       "      <td>ISTJ</td>\n",
       "      <td>17.252986</td>\n",
       "    </tr>\n",
       "    <tr>\n",
       "      <th>3</th>\n",
       "      <td>id04</td>\n",
       "      <td>75.0</td>\n",
       "      <td>서울</td>\n",
       "      <td>NaN</td>\n",
       "      <td>2</td>\n",
       "      <td>NaN</td>\n",
       "      <td>INFP</td>\n",
       "      <td>52.667078</td>\n",
       "    </tr>\n",
       "    <tr>\n",
       "      <th>4</th>\n",
       "      <td>id05</td>\n",
       "      <td>24.0</td>\n",
       "      <td>서울</td>\n",
       "      <td>85.0</td>\n",
       "      <td>2</td>\n",
       "      <td>NaN</td>\n",
       "      <td>ISFJ</td>\n",
       "      <td>29.269869</td>\n",
       "    </tr>\n",
       "  </tbody>\n",
       "</table>\n",
       "</div>"
      ],
      "text/plain": [
       "     id   age city    f1  f2   f3    f4         f5\n",
       "0  id01   2.0   서울   NaN   0  NaN  ENFJ  91.297791\n",
       "1  id02   9.0   서울  70.0   1  NaN  ENFJ  60.339826\n",
       "2  id03  27.0   서울  61.0   1  NaN  ISTJ  17.252986\n",
       "3  id04  75.0   서울   NaN   2  NaN  INFP  52.667078\n",
       "4  id05  24.0   서울  85.0   2  NaN  ISFJ  29.269869"
      ]
     },
     "execution_count": 2,
     "metadata": {},
     "output_type": "execute_result"
    }
   ],
   "source": [
    "# 라이브러리 및 데이터 불러오기\n",
    "import pandas as pd\n",
    "\n",
    "df = pd.read_csv('basic1.csv')\n",
    "df.head()"
   ]
  },
  {
   "cell_type": "code",
   "execution_count": 3,
   "id": "adbaec57",
   "metadata": {},
   "outputs": [
    {
     "data": {
      "text/html": [
       "<div>\n",
       "<style scoped>\n",
       "    .dataframe tbody tr th:only-of-type {\n",
       "        vertical-align: middle;\n",
       "    }\n",
       "\n",
       "    .dataframe tbody tr th {\n",
       "        vertical-align: top;\n",
       "    }\n",
       "\n",
       "    .dataframe thead th {\n",
       "        text-align: right;\n",
       "    }\n",
       "</style>\n",
       "<table border=\"1\" class=\"dataframe\">\n",
       "  <thead>\n",
       "    <tr style=\"text-align: right;\">\n",
       "      <th></th>\n",
       "      <th>id</th>\n",
       "      <th>age</th>\n",
       "      <th>city</th>\n",
       "      <th>f1</th>\n",
       "      <th>f2</th>\n",
       "      <th>f3</th>\n",
       "      <th>f4</th>\n",
       "      <th>f5</th>\n",
       "    </tr>\n",
       "  </thead>\n",
       "  <tbody>\n",
       "    <tr>\n",
       "      <th>10</th>\n",
       "      <td>id11</td>\n",
       "      <td>40.0</td>\n",
       "      <td>서울</td>\n",
       "      <td>68.0</td>\n",
       "      <td>0</td>\n",
       "      <td>NaN</td>\n",
       "      <td>ENFP</td>\n",
       "      <td>98.429899</td>\n",
       "    </tr>\n",
       "    <tr>\n",
       "      <th>97</th>\n",
       "      <td>id98</td>\n",
       "      <td>39.0</td>\n",
       "      <td>경기</td>\n",
       "      <td>58.0</td>\n",
       "      <td>2</td>\n",
       "      <td>NaN</td>\n",
       "      <td>INFP</td>\n",
       "      <td>98.429899</td>\n",
       "    </tr>\n",
       "    <tr>\n",
       "      <th>9</th>\n",
       "      <td>id10</td>\n",
       "      <td>95.0</td>\n",
       "      <td>서울</td>\n",
       "      <td>74.0</td>\n",
       "      <td>1</td>\n",
       "      <td>NaN</td>\n",
       "      <td>ISFP</td>\n",
       "      <td>98.429899</td>\n",
       "    </tr>\n",
       "    <tr>\n",
       "      <th>76</th>\n",
       "      <td>id77</td>\n",
       "      <td>77.0</td>\n",
       "      <td>경기</td>\n",
       "      <td>31.0</td>\n",
       "      <td>0</td>\n",
       "      <td>NaN</td>\n",
       "      <td>INFP</td>\n",
       "      <td>98.429899</td>\n",
       "    </tr>\n",
       "    <tr>\n",
       "      <th>98</th>\n",
       "      <td>id99</td>\n",
       "      <td>1.0</td>\n",
       "      <td>경기</td>\n",
       "      <td>47.0</td>\n",
       "      <td>0</td>\n",
       "      <td>NaN</td>\n",
       "      <td>ESFJ</td>\n",
       "      <td>97.381034</td>\n",
       "    </tr>\n",
       "    <tr>\n",
       "      <th>...</th>\n",
       "      <td>...</td>\n",
       "      <td>...</td>\n",
       "      <td>...</td>\n",
       "      <td>...</td>\n",
       "      <td>...</td>\n",
       "      <td>...</td>\n",
       "      <td>...</td>\n",
       "      <td>...</td>\n",
       "    </tr>\n",
       "    <tr>\n",
       "      <th>54</th>\n",
       "      <td>id55</td>\n",
       "      <td>75.0</td>\n",
       "      <td>대구</td>\n",
       "      <td>63.0</td>\n",
       "      <td>2</td>\n",
       "      <td>NaN</td>\n",
       "      <td>ENTP</td>\n",
       "      <td>13.049921</td>\n",
       "    </tr>\n",
       "    <tr>\n",
       "      <th>35</th>\n",
       "      <td>id36</td>\n",
       "      <td>68.0</td>\n",
       "      <td>부산</td>\n",
       "      <td>77.0</td>\n",
       "      <td>1</td>\n",
       "      <td>NaN</td>\n",
       "      <td>INTP</td>\n",
       "      <td>13.049921</td>\n",
       "    </tr>\n",
       "    <tr>\n",
       "      <th>6</th>\n",
       "      <td>id07</td>\n",
       "      <td>36.3</td>\n",
       "      <td>서울</td>\n",
       "      <td>60.0</td>\n",
       "      <td>1</td>\n",
       "      <td>NaN</td>\n",
       "      <td>ISFJ</td>\n",
       "      <td>9.796378</td>\n",
       "    </tr>\n",
       "    <tr>\n",
       "      <th>90</th>\n",
       "      <td>id91</td>\n",
       "      <td>6.0</td>\n",
       "      <td>경기</td>\n",
       "      <td>72.0</td>\n",
       "      <td>0</td>\n",
       "      <td>NaN</td>\n",
       "      <td>INTP</td>\n",
       "      <td>9.796378</td>\n",
       "    </tr>\n",
       "    <tr>\n",
       "      <th>14</th>\n",
       "      <td>id15</td>\n",
       "      <td>22.0</td>\n",
       "      <td>서울</td>\n",
       "      <td>67.0</td>\n",
       "      <td>1</td>\n",
       "      <td>NaN</td>\n",
       "      <td>ENTP</td>\n",
       "      <td>9.796378</td>\n",
       "    </tr>\n",
       "  </tbody>\n",
       "</table>\n",
       "<p>100 rows × 8 columns</p>\n",
       "</div>"
      ],
      "text/plain": [
       "      id   age city    f1  f2   f3    f4         f5\n",
       "10  id11  40.0   서울  68.0   0  NaN  ENFP  98.429899\n",
       "97  id98  39.0   경기  58.0   2  NaN  INFP  98.429899\n",
       "9   id10  95.0   서울  74.0   1  NaN  ISFP  98.429899\n",
       "76  id77  77.0   경기  31.0   0  NaN  INFP  98.429899\n",
       "98  id99   1.0   경기  47.0   0  NaN  ESFJ  97.381034\n",
       "..   ...   ...  ...   ...  ..  ...   ...        ...\n",
       "54  id55  75.0   대구  63.0   2  NaN  ENTP  13.049921\n",
       "35  id36  68.0   부산  77.0   1  NaN  INTP  13.049921\n",
       "6   id07  36.3   서울  60.0   1  NaN  ISFJ   9.796378\n",
       "90  id91   6.0   경기  72.0   0  NaN  INTP   9.796378\n",
       "14  id15  22.0   서울  67.0   1  NaN  ENTP   9.796378\n",
       "\n",
       "[100 rows x 8 columns]"
      ]
     },
     "execution_count": 3,
     "metadata": {},
     "output_type": "execute_result"
    }
   ],
   "source": [
    "# 1. 칼럼 내림차순 정렬\n",
    "df.sort_values('f5', ascending=False) # 칼럼 오름차순 정렬 시 'True' "
   ]
  },
  {
   "cell_type": "code",
   "execution_count": 4,
   "id": "d1072b57",
   "metadata": {},
   "outputs": [
    {
     "data": {
      "text/plain": [
       "9.796377581"
      ]
     },
     "execution_count": 4,
     "metadata": {},
     "output_type": "execute_result"
    }
   ],
   "source": [
    "# 2. 최솟값 찾는 법\n",
    "df['f5'].min() # 급하면 그냥 출력한 후 제일 작은 값 직접 입력"
   ]
  },
  {
   "cell_type": "code",
   "execution_count": 5,
   "id": "c06c7ee4",
   "metadata": {},
   "outputs": [
    {
     "data": {
      "text/plain": [
       "9     98.429899\n",
       "20    29.269869\n",
       "23    73.586397\n",
       "30    73.586397\n",
       "36    33.308999\n",
       "37    83.685380\n",
       "40    37.113739\n",
       "44    13.049921\n",
       "45    67.886373\n",
       "49    60.339826\n",
       "51    90.496999\n",
       "60    69.730313\n",
       "62    73.586397\n",
       "65    17.252986\n",
       "72    73.586397\n",
       "77    69.730313\n",
       "80    37.113739\n",
       "84    80.138280\n",
       "87    60.339826\n",
       "91    97.381034\n",
       "93    90.496999\n",
       "95    52.667078\n",
       "96    67.886373\n",
       "Name: f5, dtype: float64"
      ]
     },
     "execution_count": 5,
     "metadata": {},
     "output_type": "execute_result"
    }
   ],
   "source": [
    "# 3. 데이터에 특정 조건 걸기\n",
    "df[df['age']>=80]['f5'] # 'age' 칼럼이 80보다 크거나 같은 데이터 중 'f5' 칼럼 값들 출력"
   ]
  },
  {
   "cell_type": "code",
   "execution_count": 6,
   "id": "2376c546",
   "metadata": {},
   "outputs": [
    {
     "data": {
      "text/plain": [
       "(100, 8)"
      ]
     },
     "execution_count": 6,
     "metadata": {},
     "output_type": "execute_result"
    }
   ],
   "source": [
    "# 4. 데이터 구조 파악\n",
    "import numpy as np\n",
    "\n",
    "df.shape"
   ]
  },
  {
   "cell_type": "code",
   "execution_count": 7,
   "id": "b927c2b8",
   "metadata": {},
   "outputs": [],
   "source": [
    "# 5. 데이터 나누는 방법\n",
    "\n",
    "# 5-1. iloc\n",
    "data70 = df.iloc[:70] # 상위 70% 데이터\n",
    "data30 = df.iloc[70:] # 하위 30% 데이터\n",
    "\n",
    "# 5-2. numpy 활용(split)\n",
    "data70, data30 = np.split(df, [int(.7 * len(df))]) # 70% 기준으로 데이터 나누기\n",
    "\n",
    "# 5-3. 랜덤 샘플링 시(sample)\n",
    "data70 = df.sample(frac = 0.7)"
   ]
  },
  {
   "cell_type": "code",
   "execution_count": 8,
   "id": "2a38a255",
   "metadata": {},
   "outputs": [
    {
     "data": {
      "text/plain": [
       "id       0\n",
       "age      0\n",
       "city     0\n",
       "f1      20\n",
       "f2       0\n",
       "f3      67\n",
       "f4       0\n",
       "f5       0\n",
       "dtype: int64"
      ]
     },
     "execution_count": 8,
     "metadata": {},
     "output_type": "execute_result"
    }
   ],
   "source": [
    "# 6. 결측치 확인\n",
    "data70.isnull().sum() # 각 칼럼별 결측치 갯수 파악"
   ]
  },
  {
   "cell_type": "code",
   "execution_count": 9,
   "id": "d8ef03f7",
   "metadata": {},
   "outputs": [
    {
     "data": {
      "text/plain": [
       "20.088812807132232"
      ]
     },
     "execution_count": 9,
     "metadata": {},
     "output_type": "execute_result"
    }
   ],
   "source": [
    "# 7. 표준편차 구하기\n",
    "np.std(data70['f1']) # data70의 'f1' 칼럼의 표준편차"
   ]
  },
  {
   "cell_type": "code",
   "execution_count": 10,
   "id": "dc8e008d",
   "metadata": {},
   "outputs": [
    {
     "data": {
      "text/plain": [
       "63.0"
      ]
     },
     "execution_count": 10,
     "metadata": {},
     "output_type": "execute_result"
    }
   ],
   "source": [
    "# 8. 중앙값 확인\n",
    "data70['f1'].median()"
   ]
  },
  {
   "cell_type": "code",
   "execution_count": 12,
   "id": "afa114d8",
   "metadata": {},
   "outputs": [
    {
     "data": {
      "text/plain": [
       "id       0\n",
       "age      0\n",
       "city     0\n",
       "f1       0\n",
       "f2       0\n",
       "f3      67\n",
       "f4       0\n",
       "f5       0\n",
       "dtype: int64"
      ]
     },
     "execution_count": 12,
     "metadata": {},
     "output_type": "execute_result"
    }
   ],
   "source": [
    "# 9. 결측치 중앙값으로 채우기\n",
    "data70['f1'] = data70['f1'].fillna(data70['f1'].median())\n",
    "\n",
    "data70.isnull().sum()"
   ]
  },
  {
   "cell_type": "code",
   "execution_count": 13,
   "id": "e550522f",
   "metadata": {},
   "outputs": [
    {
     "name": "stdout",
     "output_type": "stream",
     "text": [
      "5.527756578730653 96.39824342126934\n"
     ]
    }
   ],
   "source": [
    "# 10. 이상치 다루기\n",
    "# 이상치 문제는 출제확률 높음\n",
    "\n",
    "# 이상치 및 평균 정의\n",
    "std = np.std(df['age']) * 1.5\n",
    "mean = df['age'].mean()\n",
    "\n",
    "# 이상치 기준 설정\n",
    "min_out = mean - std\n",
    "max_out = mean + std # min_out 보다 작거나 max_out 보다 큰 값이 이상치\n",
    "\n",
    "print(min_out, max_out)"
   ]
  },
  {
   "cell_type": "code",
   "execution_count": null,
   "id": "08c68327",
   "metadata": {},
   "outputs": [],
   "source": []
  }
 ],
 "metadata": {
  "kernelspec": {
   "display_name": "Python 3.9.13 ('base')",
   "language": "python",
   "name": "python3"
  },
  "language_info": {
   "codemirror_mode": {
    "name": "ipython",
    "version": 3
   },
   "file_extension": ".py",
   "mimetype": "text/x-python",
   "name": "python",
   "nbconvert_exporter": "python",
   "pygments_lexer": "ipython3",
   "version": "3.9.13"
  },
  "vscode": {
   "interpreter": {
    "hash": "f6ec242b647bc720d71e17b21a57c8c09ac199e812a92464370ade8f6e987f06"
   }
  }
 },
 "nbformat": 4,
 "nbformat_minor": 5
}
